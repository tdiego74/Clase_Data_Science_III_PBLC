{
  "nbformat": 4,
  "nbformat_minor": 0,
  "metadata": {
    "colab": {
      "provenance": [],
      "gpuType": "T4",
      "authorship_tag": "ABX9TyPxwy4Ph0O6OcAa3277AGOE",
      "include_colab_link": true
    },
    "kernelspec": {
      "name": "python3",
      "display_name": "Python 3"
    },
    "language_info": {
      "name": "python"
    },
    "accelerator": "GPU"
  },
  "cells": [
    {
      "cell_type": "markdown",
      "metadata": {
        "id": "view-in-github",
        "colab_type": "text"
      },
      "source": [
        "<a href=\"https://colab.research.google.com/github/tdiego74/Clase_Data_Science_III_PBLC/blob/main/Proyecto_DS_III_Entrega_Final_Tocci.ipynb\" target=\"_parent\"><img src=\"https://colab.research.google.com/assets/colab-badge.svg\" alt=\"Open In Colab\"/></a>"
      ]
    },
    {
      "cell_type": "markdown",
      "source": [
        "#**Analisis de Reseñas de FilmAffinity**\n",
        "\n",
        "##**Abstracto con Motivación y Audiencia**\n",
        "\n",
        "En este proyecto se analiza un conjunto de datos de reseñas obtenidas de FilmAffinity. Este trabajo está orientado a explorar patrones en el texto, realizar análisis de sentimientos y aplicar técnicas de procesamiento de lenguaje natural (NLP) para identificar insights significativos.\n",
        "\n",
        "El objetivo principal es demostrar el flujo completo de análisis: desde la carga y limpieza del texto hasta el desarrollo de visualizaciones y modelos predictivos que puedan clasificar las reseñas según su polaridad o calificación.\n",
        "\n",
        "\n",
        "##**Contexto Comercial y Analítico**\n",
        "\n",
        "FilmAffinity es una plataforma de recomendaciones y críticas de películas que permite a los usuarios valorar y escribir reseñas sobre títulos cinematográficos. Las reseñas de los usuarios son una fuente valiosa de información para comprender las preferencias y emociones asociadas con el consumo de contenido audiovisual.\n",
        "\n",
        "Este análisis busca responder preguntas como: ¿Qué palabras o frases son más comunes en las reseñas positivas y negativas? ¿Cómo varían las emociones según el género cinematográfico? Este conocimiento podría ser utilizado por la industria del entretenimiento para adaptar contenido a las expectativas de los usuarios.\n",
        "\n",
        "\n",
        "##**Preguntas/Hipótesis a Resolver**\n",
        "\n",
        "1. ¿Qué palabras o frases predominan en las reseñas positivas y negativas?\n",
        "2. ¿Es posible clasificar automáticamente las reseñas según su calificación o polaridad?\n",
        "3. ¿Qué características textuales pueden estar asociadas con ciertas puntuaciones o géneros?\n",
        "\n",
        "\n",
        "##**Objetivo**\n",
        "\n",
        "El objetivo de este proyecto es analizar y procesar el texto de las reseñas de FilmAffinity mediante técnicas de NLP. Esto incluye:\n",
        "- Preprocesamiento y limpieza del texto.\n",
        "- Análisis exploratorio para identificar patrones significativos.\n",
        "- Entrenamiento de un modelo para predecir la polaridad o calificación de las reseñas.\n",
        "\n"
      ],
      "metadata": {
        "id": "LiuG8mIQWIG9"
      }
    },
    {
      "cell_type": "code",
      "execution_count": 1,
      "metadata": {
        "id": "mt6lnzVnV6lT",
        "outputId": "89b4d00d-2ac5-46e3-f7c2-9564fe0fd195",
        "colab": {
          "base_uri": "https://localhost:8080/"
        }
      },
      "outputs": [
        {
          "output_type": "stream",
          "name": "stdout",
          "text": [
            "Primeras filas del dataset:\n",
            "               film_name   gender film_avg_rate  review_rate  \\\n",
            "0  Ocho apellidos vascos  Comedia           6,0          3.0   \n",
            "1  Ocho apellidos vascos  Comedia           6,0          2.0   \n",
            "2  Ocho apellidos vascos  Comedia           6,0          2.0   \n",
            "3  Ocho apellidos vascos  Comedia           6,0          2.0   \n",
            "4  Ocho apellidos vascos  Comedia           6,0          2.0   \n",
            "\n",
            "                                        review_title  \\\n",
            "0     OCHO APELLIDOS VASCOS...Y NINGÚN NOMBRE PROPIO   \n",
            "1                                     El perro verde   \n",
            "2  Si no eres de comer mierda... no te comas esta...   \n",
            "3                                    Aida: The movie   \n",
            "4               UN HOMBRE SOLO (Julio Iglesias 1987)   \n",
            "\n",
            "                                         review_text  \n",
            "0  La mayor virtud de esta película es su existen...  \n",
            "1  No soy un experto cinéfilo, pero pocas veces m...  \n",
            "2  Si no eres un incondicional del humor estilo T...  \n",
            "3  No sé qué está pasando, si la gente se deja ll...  \n",
            "4  \"Pero cuando amanece,y me quedo solo,siento en...  \n",
            "\n",
            "Información general del dataset:\n",
            "<class 'pandas.core.frame.DataFrame'>\n",
            "RangeIndex: 8603 entries, 0 to 8602\n",
            "Data columns (total 6 columns):\n",
            " #   Column         Non-Null Count  Dtype  \n",
            "---  ------         --------------  -----  \n",
            " 0   film_name      8603 non-null   object \n",
            " 1   gender         8603 non-null   object \n",
            " 2   film_avg_rate  8603 non-null   object \n",
            " 3   review_rate    8601 non-null   float64\n",
            " 4   review_title   8603 non-null   object \n",
            " 5   review_text    8603 non-null   object \n",
            "dtypes: float64(1), object(5)\n",
            "memory usage: 403.4+ KB\n",
            "None\n"
          ]
        }
      ],
      "source": [
        "#Lectura del dataset\n",
        "\n",
        "import pandas as pd\n",
        "\n",
        "# Leer el archivo desde GitHub usando un enfoque más robusto\n",
        "df = pd.read_csv(\n",
        "    'https://github.com/tdiego74/Clase_Data_Science_III_PBLC/raw/main/reviews_filmaffinity.csv',\n",
        "    sep=r'\\|\\|',  # Expresión regular para delimitador ||\n",
        "    engine='python',\n",
        "    quoting=3  # Ignorar comillas\n",
        ")\n",
        "\n",
        "# Mostrar las primeras filas\n",
        "print(\"Primeras filas del dataset:\")\n",
        "print(df.head())\n",
        "\n",
        "# Mostrar información del DataFrame\n",
        "print(\"\\nInformación general del dataset:\")\n",
        "print(df.info())\n",
        "\n",
        "\n",
        "\n"
      ]
    },
    {
      "cell_type": "code",
      "source": [
        "#Lectura del corpus\n",
        "\n",
        "import numpy as np\n",
        "\n",
        "# 1. Muestra aleatoria de reseñas\n",
        "print(\"Muestra aleatoria de reseñas:\")\n",
        "print(df['review_text'].sample(5, random_state=42))\n",
        "\n",
        "# 2. Longitud de cada reseña (número de palabras)\n",
        "df['review_length'] = df['review_text'].apply(lambda x: len(str(x).split()))\n",
        "print(\"\\nLongitud promedio de las reseñas:\")\n",
        "print(df['review_length'].mean())\n",
        "\n",
        "# 3. Distribución de longitud de reseñas\n",
        "print(\"\\nEstadísticas descriptivas de longitud de las reseñas:\")\n",
        "print(df['review_length'].describe())\n",
        "\n",
        "# 4. Palabras más comunes (sin limpieza)\n",
        "from collections import Counter\n",
        "\n",
        "# Combinar todas las reseñas en un solo texto\n",
        "all_words = ' '.join(df['review_text'].dropna())\n",
        "\n",
        "# Contar palabras\n",
        "word_counts = Counter(all_words.split())\n",
        "common_words = word_counts.most_common(10)\n",
        "print(\"\\nPalabras más comunes (sin limpiar):\")\n",
        "for word, count in common_words:\n",
        "    print(f\"{word}: {count}\")\n"
      ],
      "metadata": {
        "id": "xr0LVn8HxUJ8",
        "outputId": "7d87650e-b00a-497b-d498-a9d3425d9709",
        "colab": {
          "base_uri": "https://localhost:8080/"
        }
      },
      "execution_count": 3,
      "outputs": [
        {
          "output_type": "stream",
          "name": "stdout",
          "text": [
            "Muestra aleatoria de reseñas:\n",
            "7529    Con tanta promoción, markéting, buenas crítica...\n",
            "8125    Vale que la primera no era lo que se dice una ...\n",
            "7071    ¿Porqué no llamarlo “Los crímenes de la univer...\n",
            "8572    Dirigida por Alberto Rodríguez (\"Grupo 7\"), el...\n",
            "5494    Es una película muy original que engancha desd...\n",
            "Name: review_text, dtype: object\n",
            "\n",
            "Longitud promedio de las reseñas:\n",
            "213.72579332790886\n",
            "\n",
            "Estadísticas descriptivas de longitud de las reseñas:\n",
            "count    8603.000000\n",
            "mean      213.725793\n",
            "std       154.962512\n",
            "min         5.000000\n",
            "25%       100.000000\n",
            "50%       170.000000\n",
            "75%       288.000000\n",
            "max      1063.000000\n",
            "Name: review_length, dtype: float64\n",
            "\n",
            "Palabras más comunes (sin limpiar):\n",
            "de: 95587\n",
            "que: 76809\n",
            "la: 59955\n",
            "y: 51432\n",
            "en: 39433\n",
            "el: 35813\n",
            "a: 34636\n",
            "es: 24943\n",
            "un: 24872\n",
            "no: 23675\n"
          ]
        }
      ]
    },
    {
      "cell_type": "code",
      "source": [
        "\n",
        "# Analisis Inicial\n",
        "\n",
        "# Distribución de géneros\n",
        "print(\"Distribución de géneros:\")\n",
        "print(df['gender'].value_counts())\n",
        "\n",
        "# Distribución de calificaciones individuales (review_rate)\n",
        "print(\"\\nDistribución de calificaciones (review_rate):\")\n",
        "print(df['review_rate'].value_counts())\n",
        "\n",
        "# Distribución de calificaciones promedio de películas (film_avg_rate)\n",
        "print(\"\\nEstadísticas descriptivas de calificaciones promedio (film_avg_rate):\")\n",
        "print(df['film_avg_rate'].describe())\n"
      ],
      "metadata": {
        "id": "9NMfZItmvz0O",
        "outputId": "ddd739ad-17e1-43cf-dcdb-f55e5bd50968",
        "colab": {
          "base_uri": "https://localhost:8080/"
        }
      },
      "execution_count": 2,
      "outputs": [
        {
          "output_type": "stream",
          "name": "stdout",
          "text": [
            "Distribución de géneros:\n",
            "gender\n",
            "Comedia       2495\n",
            "Drama         1671\n",
            "Terror         941\n",
            "Aventuras      939\n",
            "Thriller       762\n",
            "Fantástico     495\n",
            "Cine negro     419\n",
            "Romance        284\n",
            "Animación      284\n",
            "Intriga        248\n",
            "Musical         65\n",
            "Name: count, dtype: int64\n",
            "\n",
            "Distribución de calificaciones (review_rate):\n",
            "review_rate\n",
            "8.0     1292\n",
            "7.0     1282\n",
            "6.0     1256\n",
            "5.0      978\n",
            "9.0      833\n",
            "3.0      695\n",
            "1.0      639\n",
            "4.0      590\n",
            "2.0      523\n",
            "10.0     513\n",
            "Name: count, dtype: int64\n",
            "\n",
            "Estadísticas descriptivas de calificaciones promedio (film_avg_rate):\n",
            "count     8603\n",
            "unique      28\n",
            "top        7,2\n",
            "freq      1129\n",
            "Name: film_avg_rate, dtype: object\n"
          ]
        }
      ]
    }
  ]
}