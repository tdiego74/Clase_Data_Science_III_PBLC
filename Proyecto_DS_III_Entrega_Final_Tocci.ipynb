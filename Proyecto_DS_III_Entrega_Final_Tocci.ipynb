{
  "nbformat": 4,
  "nbformat_minor": 0,
  "metadata": {
    "colab": {
      "provenance": [],
      "gpuType": "T4",
      "authorship_tag": "ABX9TyMUUbtfQsB0+huQ6yCbRucH",
      "include_colab_link": true
    },
    "kernelspec": {
      "name": "python3",
      "display_name": "Python 3"
    },
    "language_info": {
      "name": "python"
    },
    "accelerator": "GPU"
  },
  "cells": [
    {
      "cell_type": "markdown",
      "metadata": {
        "id": "view-in-github",
        "colab_type": "text"
      },
      "source": [
        "<a href=\"https://colab.research.google.com/github/tdiego74/Clase_Data_Science_III_PBLC/blob/main/Proyecto_DS_III_Entrega_Final_Tocci.ipynb\" target=\"_parent\"><img src=\"https://colab.research.google.com/assets/colab-badge.svg\" alt=\"Open In Colab\"/></a>"
      ]
    },
    {
      "cell_type": "markdown",
      "source": [
        "#**Proyecto MeLiSA - Reseñas en español de Mercado Libre**\n",
        "\n",
        "##**Abstracto con Motivación y Audiencia**\n",
        "\n",
        "En este proyecto se analiza un conjunto de datos de reseñas obtenidas de FilmAffinity. Este trabajo está orientado a explorar patrones en el texto, realizar análisis de sentimientos y aplicar técnicas de procesamiento de lenguaje natural (NLP) para identificar insights significativos.\n",
        "\n",
        "El objetivo principal es demostrar el flujo completo de análisis: desde la carga y limpieza del texto hasta el desarrollo de visualizaciones y modelos predictivos que puedan clasificar las reseñas según su polaridad o calificación.\n",
        "\n",
        "\n",
        "##**Contexto Comercial y Analítico**\n",
        "\n",
        "FilmAffinity es una plataforma de recomendaciones y críticas de películas que permite a los usuarios valorar y escribir reseñas sobre títulos cinematográficos. Las reseñas de los usuarios son una fuente valiosa de información para comprender las preferencias y emociones asociadas con el consumo de contenido audiovisual.\n",
        "\n",
        "Este análisis busca responder preguntas como: ¿Qué palabras o frases son más comunes en las reseñas positivas y negativas? ¿Cómo varían las emociones según el género cinematográfico? Este conocimiento podría ser utilizado por la industria del entretenimiento para adaptar contenido a las expectativas de los usuarios.\n",
        "\n",
        "\n",
        "##**Preguntas/Hipótesis a Resolver**\n",
        "\n",
        "1. ¿Qué palabras o frases predominan en las reseñas positivas y negativas?\n",
        "2. ¿Es posible clasificar automáticamente las reseñas según su calificación o polaridad?\n",
        "3. ¿Qué características textuales pueden estar asociadas con ciertas puntuaciones o géneros?\n",
        "\n",
        "\n",
        "##**Objetivo**\n",
        "\n",
        "El objetivo de este proyecto es analizar y procesar el texto de las reseñas de FilmAffinity mediante técnicas de NLP. Esto incluye:\n",
        "- Preprocesamiento y limpieza del texto.\n",
        "- Análisis exploratorio para identificar patrones significativos.\n",
        "- Entrenamiento de un modelo para predecir la polaridad o calificación de las reseñas.\n",
        "\n"
      ],
      "metadata": {
        "id": "LiuG8mIQWIG9"
      }
    },
    {
      "cell_type": "code",
      "source": [
        "# Instalaciones necesarias (se ejecutan solo si no están instaladas)\n",
        "!pip install spacy\n",
        "!python -m spacy download es_core_news_sm\n",
        "!pip install wordcloud\n",
        "!pip install matplotlib\n",
        "\n",
        "# Importaciones generales\n",
        "import pandas as pd  # Manejo de datos\n",
        "import numpy as np  # Cálculos adicionales\n",
        "import matplotlib.pyplot as plt  # Gráficos\n",
        "import re  # Expresiones regulares\n",
        "from collections import Counter  # Contar elementos\n",
        "import spacy  # Procesamiento de lenguaje natural\n",
        "from wordcloud import WordCloud  # Nube de palabras\n",
        "from sklearn.feature_extraction.text import CountVectorizer  # N-gramas\n",
        "\n",
        "# Cargar el modelo en español para spaCy\n",
        "nlp = spacy.load('es_core_news_sm')\n",
        "\n"
      ],
      "metadata": {
        "id": "QKdW4JLQT2yU",
        "outputId": "4e0c142d-d6be-4c6f-f3c9-d9c4ad6429a7",
        "colab": {
          "base_uri": "https://localhost:8080/"
        }
      },
      "execution_count": 1,
      "outputs": [
        {
          "output_type": "stream",
          "name": "stdout",
          "text": [
            "Requirement already satisfied: spacy in /usr/local/lib/python3.10/dist-packages (3.7.5)\n",
            "Requirement already satisfied: spacy-legacy<3.1.0,>=3.0.11 in /usr/local/lib/python3.10/dist-packages (from spacy) (3.0.12)\n",
            "Requirement already satisfied: spacy-loggers<2.0.0,>=1.0.0 in /usr/local/lib/python3.10/dist-packages (from spacy) (1.0.5)\n",
            "Requirement already satisfied: murmurhash<1.1.0,>=0.28.0 in /usr/local/lib/python3.10/dist-packages (from spacy) (1.0.10)\n",
            "Requirement already satisfied: cymem<2.1.0,>=2.0.2 in /usr/local/lib/python3.10/dist-packages (from spacy) (2.0.8)\n",
            "Requirement already satisfied: preshed<3.1.0,>=3.0.2 in /usr/local/lib/python3.10/dist-packages (from spacy) (3.0.9)\n",
            "Requirement already satisfied: thinc<8.3.0,>=8.2.2 in /usr/local/lib/python3.10/dist-packages (from spacy) (8.2.5)\n",
            "Requirement already satisfied: wasabi<1.2.0,>=0.9.1 in /usr/local/lib/python3.10/dist-packages (from spacy) (1.1.3)\n",
            "Requirement already satisfied: srsly<3.0.0,>=2.4.3 in /usr/local/lib/python3.10/dist-packages (from spacy) (2.4.8)\n",
            "Requirement already satisfied: catalogue<2.1.0,>=2.0.6 in /usr/local/lib/python3.10/dist-packages (from spacy) (2.0.10)\n",
            "Requirement already satisfied: weasel<0.5.0,>=0.1.0 in /usr/local/lib/python3.10/dist-packages (from spacy) (0.4.1)\n",
            "Requirement already satisfied: typer<1.0.0,>=0.3.0 in /usr/local/lib/python3.10/dist-packages (from spacy) (0.12.5)\n",
            "Requirement already satisfied: tqdm<5.0.0,>=4.38.0 in /usr/local/lib/python3.10/dist-packages (from spacy) (4.66.6)\n",
            "Requirement already satisfied: requests<3.0.0,>=2.13.0 in /usr/local/lib/python3.10/dist-packages (from spacy) (2.32.3)\n",
            "Requirement already satisfied: pydantic!=1.8,!=1.8.1,<3.0.0,>=1.7.4 in /usr/local/lib/python3.10/dist-packages (from spacy) (2.9.2)\n",
            "Requirement already satisfied: jinja2 in /usr/local/lib/python3.10/dist-packages (from spacy) (3.1.4)\n",
            "Requirement already satisfied: setuptools in /usr/local/lib/python3.10/dist-packages (from spacy) (75.1.0)\n",
            "Requirement already satisfied: packaging>=20.0 in /usr/local/lib/python3.10/dist-packages (from spacy) (24.1)\n",
            "Requirement already satisfied: langcodes<4.0.0,>=3.2.0 in /usr/local/lib/python3.10/dist-packages (from spacy) (3.4.1)\n",
            "Requirement already satisfied: numpy>=1.19.0 in /usr/local/lib/python3.10/dist-packages (from spacy) (1.26.4)\n",
            "Requirement already satisfied: language-data>=1.2 in /usr/local/lib/python3.10/dist-packages (from langcodes<4.0.0,>=3.2.0->spacy) (1.2.0)\n",
            "Requirement already satisfied: annotated-types>=0.6.0 in /usr/local/lib/python3.10/dist-packages (from pydantic!=1.8,!=1.8.1,<3.0.0,>=1.7.4->spacy) (0.7.0)\n",
            "Requirement already satisfied: pydantic-core==2.23.4 in /usr/local/lib/python3.10/dist-packages (from pydantic!=1.8,!=1.8.1,<3.0.0,>=1.7.4->spacy) (2.23.4)\n",
            "Requirement already satisfied: typing-extensions>=4.6.1 in /usr/local/lib/python3.10/dist-packages (from pydantic!=1.8,!=1.8.1,<3.0.0,>=1.7.4->spacy) (4.12.2)\n",
            "Requirement already satisfied: charset-normalizer<4,>=2 in /usr/local/lib/python3.10/dist-packages (from requests<3.0.0,>=2.13.0->spacy) (3.4.0)\n",
            "Requirement already satisfied: idna<4,>=2.5 in /usr/local/lib/python3.10/dist-packages (from requests<3.0.0,>=2.13.0->spacy) (3.10)\n",
            "Requirement already satisfied: urllib3<3,>=1.21.1 in /usr/local/lib/python3.10/dist-packages (from requests<3.0.0,>=2.13.0->spacy) (2.2.3)\n",
            "Requirement already satisfied: certifi>=2017.4.17 in /usr/local/lib/python3.10/dist-packages (from requests<3.0.0,>=2.13.0->spacy) (2024.8.30)\n",
            "Requirement already satisfied: blis<0.8.0,>=0.7.8 in /usr/local/lib/python3.10/dist-packages (from thinc<8.3.0,>=8.2.2->spacy) (0.7.11)\n",
            "Requirement already satisfied: confection<1.0.0,>=0.0.1 in /usr/local/lib/python3.10/dist-packages (from thinc<8.3.0,>=8.2.2->spacy) (0.1.5)\n",
            "Requirement already satisfied: click>=8.0.0 in /usr/local/lib/python3.10/dist-packages (from typer<1.0.0,>=0.3.0->spacy) (8.1.7)\n",
            "Requirement already satisfied: shellingham>=1.3.0 in /usr/local/lib/python3.10/dist-packages (from typer<1.0.0,>=0.3.0->spacy) (1.5.4)\n",
            "Requirement already satisfied: rich>=10.11.0 in /usr/local/lib/python3.10/dist-packages (from typer<1.0.0,>=0.3.0->spacy) (13.9.4)\n",
            "Requirement already satisfied: cloudpathlib<1.0.0,>=0.7.0 in /usr/local/lib/python3.10/dist-packages (from weasel<0.5.0,>=0.1.0->spacy) (0.20.0)\n",
            "Requirement already satisfied: smart-open<8.0.0,>=5.2.1 in /usr/local/lib/python3.10/dist-packages (from weasel<0.5.0,>=0.1.0->spacy) (7.0.5)\n",
            "Requirement already satisfied: MarkupSafe>=2.0 in /usr/local/lib/python3.10/dist-packages (from jinja2->spacy) (3.0.2)\n",
            "Requirement already satisfied: marisa-trie>=0.7.7 in /usr/local/lib/python3.10/dist-packages (from language-data>=1.2->langcodes<4.0.0,>=3.2.0->spacy) (1.2.1)\n",
            "Requirement already satisfied: markdown-it-py>=2.2.0 in /usr/local/lib/python3.10/dist-packages (from rich>=10.11.0->typer<1.0.0,>=0.3.0->spacy) (3.0.0)\n",
            "Requirement already satisfied: pygments<3.0.0,>=2.13.0 in /usr/local/lib/python3.10/dist-packages (from rich>=10.11.0->typer<1.0.0,>=0.3.0->spacy) (2.18.0)\n",
            "Requirement already satisfied: wrapt in /usr/local/lib/python3.10/dist-packages (from smart-open<8.0.0,>=5.2.1->weasel<0.5.0,>=0.1.0->spacy) (1.16.0)\n",
            "Requirement already satisfied: mdurl~=0.1 in /usr/local/lib/python3.10/dist-packages (from markdown-it-py>=2.2.0->rich>=10.11.0->typer<1.0.0,>=0.3.0->spacy) (0.1.2)\n",
            "Collecting es-core-news-sm==3.7.0\n",
            "  Downloading https://github.com/explosion/spacy-models/releases/download/es_core_news_sm-3.7.0/es_core_news_sm-3.7.0-py3-none-any.whl (12.9 MB)\n",
            "\u001b[2K     \u001b[90m━━━━━━━━━━━━━━━━━━━━━━━━━━━━━━━━━━━━━━━━\u001b[0m \u001b[32m12.9/12.9 MB\u001b[0m \u001b[31m93.5 MB/s\u001b[0m eta \u001b[36m0:00:00\u001b[0m\n",
            "\u001b[?25hRequirement already satisfied: spacy<3.8.0,>=3.7.0 in /usr/local/lib/python3.10/dist-packages (from es-core-news-sm==3.7.0) (3.7.5)\n",
            "Requirement already satisfied: spacy-legacy<3.1.0,>=3.0.11 in /usr/local/lib/python3.10/dist-packages (from spacy<3.8.0,>=3.7.0->es-core-news-sm==3.7.0) (3.0.12)\n",
            "Requirement already satisfied: spacy-loggers<2.0.0,>=1.0.0 in /usr/local/lib/python3.10/dist-packages (from spacy<3.8.0,>=3.7.0->es-core-news-sm==3.7.0) (1.0.5)\n",
            "Requirement already satisfied: murmurhash<1.1.0,>=0.28.0 in /usr/local/lib/python3.10/dist-packages (from spacy<3.8.0,>=3.7.0->es-core-news-sm==3.7.0) (1.0.10)\n",
            "Requirement already satisfied: cymem<2.1.0,>=2.0.2 in /usr/local/lib/python3.10/dist-packages (from spacy<3.8.0,>=3.7.0->es-core-news-sm==3.7.0) (2.0.8)\n",
            "Requirement already satisfied: preshed<3.1.0,>=3.0.2 in /usr/local/lib/python3.10/dist-packages (from spacy<3.8.0,>=3.7.0->es-core-news-sm==3.7.0) (3.0.9)\n",
            "Requirement already satisfied: thinc<8.3.0,>=8.2.2 in /usr/local/lib/python3.10/dist-packages (from spacy<3.8.0,>=3.7.0->es-core-news-sm==3.7.0) (8.2.5)\n",
            "Requirement already satisfied: wasabi<1.2.0,>=0.9.1 in /usr/local/lib/python3.10/dist-packages (from spacy<3.8.0,>=3.7.0->es-core-news-sm==3.7.0) (1.1.3)\n",
            "Requirement already satisfied: srsly<3.0.0,>=2.4.3 in /usr/local/lib/python3.10/dist-packages (from spacy<3.8.0,>=3.7.0->es-core-news-sm==3.7.0) (2.4.8)\n",
            "Requirement already satisfied: catalogue<2.1.0,>=2.0.6 in /usr/local/lib/python3.10/dist-packages (from spacy<3.8.0,>=3.7.0->es-core-news-sm==3.7.0) (2.0.10)\n",
            "Requirement already satisfied: weasel<0.5.0,>=0.1.0 in /usr/local/lib/python3.10/dist-packages (from spacy<3.8.0,>=3.7.0->es-core-news-sm==3.7.0) (0.4.1)\n",
            "Requirement already satisfied: typer<1.0.0,>=0.3.0 in /usr/local/lib/python3.10/dist-packages (from spacy<3.8.0,>=3.7.0->es-core-news-sm==3.7.0) (0.12.5)\n",
            "Requirement already satisfied: tqdm<5.0.0,>=4.38.0 in /usr/local/lib/python3.10/dist-packages (from spacy<3.8.0,>=3.7.0->es-core-news-sm==3.7.0) (4.66.6)\n",
            "Requirement already satisfied: requests<3.0.0,>=2.13.0 in /usr/local/lib/python3.10/dist-packages (from spacy<3.8.0,>=3.7.0->es-core-news-sm==3.7.0) (2.32.3)\n",
            "Requirement already satisfied: pydantic!=1.8,!=1.8.1,<3.0.0,>=1.7.4 in /usr/local/lib/python3.10/dist-packages (from spacy<3.8.0,>=3.7.0->es-core-news-sm==3.7.0) (2.9.2)\n",
            "Requirement already satisfied: jinja2 in /usr/local/lib/python3.10/dist-packages (from spacy<3.8.0,>=3.7.0->es-core-news-sm==3.7.0) (3.1.4)\n",
            "Requirement already satisfied: setuptools in /usr/local/lib/python3.10/dist-packages (from spacy<3.8.0,>=3.7.0->es-core-news-sm==3.7.0) (75.1.0)\n",
            "Requirement already satisfied: packaging>=20.0 in /usr/local/lib/python3.10/dist-packages (from spacy<3.8.0,>=3.7.0->es-core-news-sm==3.7.0) (24.1)\n",
            "Requirement already satisfied: langcodes<4.0.0,>=3.2.0 in /usr/local/lib/python3.10/dist-packages (from spacy<3.8.0,>=3.7.0->es-core-news-sm==3.7.0) (3.4.1)\n",
            "Requirement already satisfied: numpy>=1.19.0 in /usr/local/lib/python3.10/dist-packages (from spacy<3.8.0,>=3.7.0->es-core-news-sm==3.7.0) (1.26.4)\n",
            "Requirement already satisfied: language-data>=1.2 in /usr/local/lib/python3.10/dist-packages (from langcodes<4.0.0,>=3.2.0->spacy<3.8.0,>=3.7.0->es-core-news-sm==3.7.0) (1.2.0)\n",
            "Requirement already satisfied: annotated-types>=0.6.0 in /usr/local/lib/python3.10/dist-packages (from pydantic!=1.8,!=1.8.1,<3.0.0,>=1.7.4->spacy<3.8.0,>=3.7.0->es-core-news-sm==3.7.0) (0.7.0)\n",
            "Requirement already satisfied: pydantic-core==2.23.4 in /usr/local/lib/python3.10/dist-packages (from pydantic!=1.8,!=1.8.1,<3.0.0,>=1.7.4->spacy<3.8.0,>=3.7.0->es-core-news-sm==3.7.0) (2.23.4)\n",
            "Requirement already satisfied: typing-extensions>=4.6.1 in /usr/local/lib/python3.10/dist-packages (from pydantic!=1.8,!=1.8.1,<3.0.0,>=1.7.4->spacy<3.8.0,>=3.7.0->es-core-news-sm==3.7.0) (4.12.2)\n",
            "Requirement already satisfied: charset-normalizer<4,>=2 in /usr/local/lib/python3.10/dist-packages (from requests<3.0.0,>=2.13.0->spacy<3.8.0,>=3.7.0->es-core-news-sm==3.7.0) (3.4.0)\n",
            "Requirement already satisfied: idna<4,>=2.5 in /usr/local/lib/python3.10/dist-packages (from requests<3.0.0,>=2.13.0->spacy<3.8.0,>=3.7.0->es-core-news-sm==3.7.0) (3.10)\n",
            "Requirement already satisfied: urllib3<3,>=1.21.1 in /usr/local/lib/python3.10/dist-packages (from requests<3.0.0,>=2.13.0->spacy<3.8.0,>=3.7.0->es-core-news-sm==3.7.0) (2.2.3)\n",
            "Requirement already satisfied: certifi>=2017.4.17 in /usr/local/lib/python3.10/dist-packages (from requests<3.0.0,>=2.13.0->spacy<3.8.0,>=3.7.0->es-core-news-sm==3.7.0) (2024.8.30)\n",
            "Requirement already satisfied: blis<0.8.0,>=0.7.8 in /usr/local/lib/python3.10/dist-packages (from thinc<8.3.0,>=8.2.2->spacy<3.8.0,>=3.7.0->es-core-news-sm==3.7.0) (0.7.11)\n",
            "Requirement already satisfied: confection<1.0.0,>=0.0.1 in /usr/local/lib/python3.10/dist-packages (from thinc<8.3.0,>=8.2.2->spacy<3.8.0,>=3.7.0->es-core-news-sm==3.7.0) (0.1.5)\n",
            "Requirement already satisfied: click>=8.0.0 in /usr/local/lib/python3.10/dist-packages (from typer<1.0.0,>=0.3.0->spacy<3.8.0,>=3.7.0->es-core-news-sm==3.7.0) (8.1.7)\n",
            "Requirement already satisfied: shellingham>=1.3.0 in /usr/local/lib/python3.10/dist-packages (from typer<1.0.0,>=0.3.0->spacy<3.8.0,>=3.7.0->es-core-news-sm==3.7.0) (1.5.4)\n",
            "Requirement already satisfied: rich>=10.11.0 in /usr/local/lib/python3.10/dist-packages (from typer<1.0.0,>=0.3.0->spacy<3.8.0,>=3.7.0->es-core-news-sm==3.7.0) (13.9.4)\n",
            "Requirement already satisfied: cloudpathlib<1.0.0,>=0.7.0 in /usr/local/lib/python3.10/dist-packages (from weasel<0.5.0,>=0.1.0->spacy<3.8.0,>=3.7.0->es-core-news-sm==3.7.0) (0.20.0)\n",
            "Requirement already satisfied: smart-open<8.0.0,>=5.2.1 in /usr/local/lib/python3.10/dist-packages (from weasel<0.5.0,>=0.1.0->spacy<3.8.0,>=3.7.0->es-core-news-sm==3.7.0) (7.0.5)\n",
            "Requirement already satisfied: MarkupSafe>=2.0 in /usr/local/lib/python3.10/dist-packages (from jinja2->spacy<3.8.0,>=3.7.0->es-core-news-sm==3.7.0) (3.0.2)\n",
            "Requirement already satisfied: marisa-trie>=0.7.7 in /usr/local/lib/python3.10/dist-packages (from language-data>=1.2->langcodes<4.0.0,>=3.2.0->spacy<3.8.0,>=3.7.0->es-core-news-sm==3.7.0) (1.2.1)\n",
            "Requirement already satisfied: markdown-it-py>=2.2.0 in /usr/local/lib/python3.10/dist-packages (from rich>=10.11.0->typer<1.0.0,>=0.3.0->spacy<3.8.0,>=3.7.0->es-core-news-sm==3.7.0) (3.0.0)\n",
            "Requirement already satisfied: pygments<3.0.0,>=2.13.0 in /usr/local/lib/python3.10/dist-packages (from rich>=10.11.0->typer<1.0.0,>=0.3.0->spacy<3.8.0,>=3.7.0->es-core-news-sm==3.7.0) (2.18.0)\n",
            "Requirement already satisfied: wrapt in /usr/local/lib/python3.10/dist-packages (from smart-open<8.0.0,>=5.2.1->weasel<0.5.0,>=0.1.0->spacy<3.8.0,>=3.7.0->es-core-news-sm==3.7.0) (1.16.0)\n",
            "Requirement already satisfied: mdurl~=0.1 in /usr/local/lib/python3.10/dist-packages (from markdown-it-py>=2.2.0->rich>=10.11.0->typer<1.0.0,>=0.3.0->spacy<3.8.0,>=3.7.0->es-core-news-sm==3.7.0) (0.1.2)\n",
            "Installing collected packages: es-core-news-sm\n",
            "Successfully installed es-core-news-sm-3.7.0\n",
            "\u001b[38;5;2m✔ Download and installation successful\u001b[0m\n",
            "You can now load the package via spacy.load('es_core_news_sm')\n",
            "\u001b[38;5;3m⚠ Restart to reload dependencies\u001b[0m\n",
            "If you are in a Jupyter or Colab notebook, you may need to restart Python in\n",
            "order to load all the package's dependencies. You can do this by selecting the\n",
            "'Restart kernel' or 'Restart runtime' option.\n",
            "Requirement already satisfied: wordcloud in /usr/local/lib/python3.10/dist-packages (1.9.3)\n",
            "Requirement already satisfied: numpy>=1.6.1 in /usr/local/lib/python3.10/dist-packages (from wordcloud) (1.26.4)\n",
            "Requirement already satisfied: pillow in /usr/local/lib/python3.10/dist-packages (from wordcloud) (10.4.0)\n",
            "Requirement already satisfied: matplotlib in /usr/local/lib/python3.10/dist-packages (from wordcloud) (3.8.0)\n",
            "Requirement already satisfied: contourpy>=1.0.1 in /usr/local/lib/python3.10/dist-packages (from matplotlib->wordcloud) (1.3.0)\n",
            "Requirement already satisfied: cycler>=0.10 in /usr/local/lib/python3.10/dist-packages (from matplotlib->wordcloud) (0.12.1)\n",
            "Requirement already satisfied: fonttools>=4.22.0 in /usr/local/lib/python3.10/dist-packages (from matplotlib->wordcloud) (4.54.1)\n",
            "Requirement already satisfied: kiwisolver>=1.0.1 in /usr/local/lib/python3.10/dist-packages (from matplotlib->wordcloud) (1.4.7)\n",
            "Requirement already satisfied: packaging>=20.0 in /usr/local/lib/python3.10/dist-packages (from matplotlib->wordcloud) (24.1)\n",
            "Requirement already satisfied: pyparsing>=2.3.1 in /usr/local/lib/python3.10/dist-packages (from matplotlib->wordcloud) (3.2.0)\n",
            "Requirement already satisfied: python-dateutil>=2.7 in /usr/local/lib/python3.10/dist-packages (from matplotlib->wordcloud) (2.8.2)\n",
            "Requirement already satisfied: six>=1.5 in /usr/local/lib/python3.10/dist-packages (from python-dateutil>=2.7->matplotlib->wordcloud) (1.16.0)\n",
            "Requirement already satisfied: matplotlib in /usr/local/lib/python3.10/dist-packages (3.8.0)\n",
            "Requirement already satisfied: contourpy>=1.0.1 in /usr/local/lib/python3.10/dist-packages (from matplotlib) (1.3.0)\n",
            "Requirement already satisfied: cycler>=0.10 in /usr/local/lib/python3.10/dist-packages (from matplotlib) (0.12.1)\n",
            "Requirement already satisfied: fonttools>=4.22.0 in /usr/local/lib/python3.10/dist-packages (from matplotlib) (4.54.1)\n",
            "Requirement already satisfied: kiwisolver>=1.0.1 in /usr/local/lib/python3.10/dist-packages (from matplotlib) (1.4.7)\n",
            "Requirement already satisfied: numpy<2,>=1.21 in /usr/local/lib/python3.10/dist-packages (from matplotlib) (1.26.4)\n",
            "Requirement already satisfied: packaging>=20.0 in /usr/local/lib/python3.10/dist-packages (from matplotlib) (24.1)\n",
            "Requirement already satisfied: pillow>=6.2.0 in /usr/local/lib/python3.10/dist-packages (from matplotlib) (10.4.0)\n",
            "Requirement already satisfied: pyparsing>=2.3.1 in /usr/local/lib/python3.10/dist-packages (from matplotlib) (3.2.0)\n",
            "Requirement already satisfied: python-dateutil>=2.7 in /usr/local/lib/python3.10/dist-packages (from matplotlib) (2.8.2)\n",
            "Requirement already satisfied: six>=1.5 in /usr/local/lib/python3.10/dist-packages (from python-dateutil>=2.7->matplotlib) (1.16.0)\n"
          ]
        }
      ]
    },
    {
      "cell_type": "code",
      "execution_count": 2,
      "metadata": {
        "id": "mt6lnzVnV6lT",
        "colab": {
          "base_uri": "https://localhost:8080/"
        },
        "outputId": "8f5c9475-0983-426e-dea2-e91737889808"
      },
      "outputs": [
        {
          "output_type": "stream",
          "name": "stdout",
          "text": [
            "Primeras filas del dataset:\n",
            "               film_name   gender film_avg_rate  review_rate  \\\n",
            "0  Ocho apellidos vascos  Comedia           6,0          3.0   \n",
            "1  Ocho apellidos vascos  Comedia           6,0          2.0   \n",
            "2  Ocho apellidos vascos  Comedia           6,0          2.0   \n",
            "3  Ocho apellidos vascos  Comedia           6,0          2.0   \n",
            "4  Ocho apellidos vascos  Comedia           6,0          2.0   \n",
            "\n",
            "                                        review_title  \\\n",
            "0     OCHO APELLIDOS VASCOS...Y NINGÚN NOMBRE PROPIO   \n",
            "1                                     El perro verde   \n",
            "2  Si no eres de comer mierda... no te comas esta...   \n",
            "3                                    Aida: The movie   \n",
            "4               UN HOMBRE SOLO (Julio Iglesias 1987)   \n",
            "\n",
            "                                         review_text  \n",
            "0  La mayor virtud de esta película es su existen...  \n",
            "1  No soy un experto cinéfilo, pero pocas veces m...  \n",
            "2  Si no eres un incondicional del humor estilo T...  \n",
            "3  No sé qué está pasando, si la gente se deja ll...  \n",
            "4  \"Pero cuando amanece,y me quedo solo,siento en...  \n",
            "\n",
            "Información general del dataset:\n",
            "<class 'pandas.core.frame.DataFrame'>\n",
            "RangeIndex: 8603 entries, 0 to 8602\n",
            "Data columns (total 6 columns):\n",
            " #   Column         Non-Null Count  Dtype  \n",
            "---  ------         --------------  -----  \n",
            " 0   film_name      8603 non-null   object \n",
            " 1   gender         8603 non-null   object \n",
            " 2   film_avg_rate  8603 non-null   object \n",
            " 3   review_rate    8601 non-null   float64\n",
            " 4   review_title   8603 non-null   object \n",
            " 5   review_text    8603 non-null   object \n",
            "dtypes: float64(1), object(5)\n",
            "memory usage: 403.4+ KB\n",
            "None\n"
          ]
        }
      ],
      "source": [
        "# import pandas as pd\n",
        "\n",
        "# Leer el archivo desde GitHub usando un enfoque más robusto\n",
        "df = pd.read_csv(\n",
        "    'https://github.com/tdiego74/Clase_Data_Science_III_PBLC/raw/main/reviews_filmaffinity.csv',\n",
        "    sep=r'\\|\\|',  # Expresión regular para delimitador ||\n",
        "    engine='python',\n",
        "    quoting=3  # Ignorar comillas\n",
        ")\n",
        "\n",
        "# Mostrar las primeras filas\n",
        "print(\"Primeras filas del dataset:\")\n",
        "print(df.head())\n",
        "\n",
        "# Mostrar información del DataFrame\n",
        "print(\"\\nInformación general del dataset:\")\n",
        "print(df.info())\n",
        "\n",
        "\n",
        "\n"
      ]
    },
    {
      "cell_type": "code",
      "source": [
        "# Distribución de géneros\n",
        "print(\"Distribución de géneros:\")\n",
        "print(df['gender'].value_counts())\n",
        "\n",
        "# Distribución de calificaciones individuales (review_rate)\n",
        "print(\"\\nDistribución de calificaciones (review_rate):\")\n",
        "print(df['review_rate'].value_counts())\n",
        "\n",
        "# Distribución de calificaciones promedio de películas (film_avg_rate)\n",
        "print(\"\\nEstadísticas descriptivas de calificaciones promedio (film_avg_rate):\")\n",
        "print(df['film_avg_rate'].describe())\n"
      ],
      "metadata": {
        "colab": {
          "base_uri": "https://localhost:8080/"
        },
        "id": "9NMfZItmvz0O",
        "outputId": "7f7df3eb-d5e5-470b-e184-92e6b469d434"
      },
      "execution_count": 3,
      "outputs": [
        {
          "output_type": "stream",
          "name": "stdout",
          "text": [
            "Distribución de géneros:\n",
            "gender\n",
            "Comedia       2495\n",
            "Drama         1671\n",
            "Terror         941\n",
            "Aventuras      939\n",
            "Thriller       762\n",
            "Fantástico     495\n",
            "Cine negro     419\n",
            "Animación      284\n",
            "Romance        284\n",
            "Intriga        248\n",
            "Musical         65\n",
            "Name: count, dtype: int64\n",
            "\n",
            "Distribución de calificaciones (review_rate):\n",
            "review_rate\n",
            "8.0     1292\n",
            "7.0     1282\n",
            "6.0     1256\n",
            "5.0      978\n",
            "9.0      833\n",
            "3.0      695\n",
            "1.0      639\n",
            "4.0      590\n",
            "2.0      523\n",
            "10.0     513\n",
            "Name: count, dtype: int64\n",
            "\n",
            "Estadísticas descriptivas de calificaciones promedio (film_avg_rate):\n",
            "count     8603\n",
            "unique      28\n",
            "top        7,2\n",
            "freq      1129\n",
            "Name: film_avg_rate, dtype: object\n"
          ]
        }
      ]
    },
    {
      "cell_type": "code",
      "source": [
        "# Longitud de las oraciones\n",
        "df['sentence_length'] = df['review_text'].apply(lambda x: len(str(x).split()))\n",
        "\n",
        "# Estadísticas descriptivas\n",
        "print(\"Estadísticas descriptivas de la longitud de las oraciones:\")\n",
        "print(df['sentence_length'].describe())\n",
        "\n",
        "# Histograma de la longitud de las oraciones\n",
        "# import matplotlib.pyplot as plt\n",
        "\n",
        "plt.hist(df['sentence_length'], bins=30, color='skyblue', edgecolor='black')\n",
        "plt.title('Distribución de la Longitud de las Oraciones')\n",
        "plt.xlabel('Número de palabras')\n",
        "plt.ylabel('Frecuencia')\n",
        "plt.show()\n"
      ],
      "metadata": {
        "id": "XUZPCDH3Ov-w",
        "outputId": "6ddd0fdd-e797-4b60-c687-8052619f5caa",
        "colab": {
          "base_uri": "https://localhost:8080/",
          "height": 647
        }
      },
      "execution_count": 4,
      "outputs": [
        {
          "output_type": "stream",
          "name": "stdout",
          "text": [
            "Estadísticas descriptivas de la longitud de las oraciones:\n",
            "count    8603.000000\n",
            "mean      213.725793\n",
            "std       154.962512\n",
            "min         5.000000\n",
            "25%       100.000000\n",
            "50%       170.000000\n",
            "75%       288.000000\n",
            "max      1063.000000\n",
            "Name: sentence_length, dtype: float64\n"
          ]
        },
        {
          "output_type": "display_data",
          "data": {
            "text/plain": [
              "<Figure size 640x480 with 1 Axes>"
            ],
            "image/png": "[encoded data removed]"
          },
          "metadata": {}
        }
      ]
    },
    {
      "cell_type": "markdown",
      "source": [
        "El corpus tiene una buena variabilidad en la longitud de las reseñas.\n",
        "Las reseñas más largas podrían contener mayor riqueza semántica, mientras que las más cortas podrían ser directas y concisas."
      ],
      "metadata": {
        "id": "Qv4WGDDwWUIU"
      }
    },
    {
      "cell_type": "code",
      "source": [
        "# from collections import Counter\n",
        "\n",
        "# Contar palabras\n",
        "all_words = ' '.join(df['review_text'].dropna()).split()\n",
        "word_counts = Counter(all_words)\n",
        "\n",
        "# Palabras más comunes\n",
        "print(\"Palabras más comunes:\")\n",
        "print(word_counts.most_common(10))\n"
      ],
      "metadata": {
        "id": "rpA4JmUjSpnt",
        "outputId": "27774fea-3fca-4fb0-b866-7e72c1962512",
        "colab": {
          "base_uri": "https://localhost:8080/"
        }
      },
      "execution_count": 5,
      "outputs": [
        {
          "output_type": "stream",
          "name": "stdout",
          "text": [
            "Palabras más comunes:\n",
            "[('de', 95587), ('que', 76809), ('la', 59955), ('y', 51432), ('en', 39433), ('el', 35813), ('a', 34636), ('es', 24943), ('un', 24872), ('no', 23675)]\n"
          ]
        }
      ]
    },
    {
      "cell_type": "code",
      "source": [
        "# Importaciones necesarias\n",
        "#from collections import Counter\n",
        "\n",
        "# Combinar todas las reseñas en un único string\n",
        "all_words = ' '.join(df['review_text'].dropna())\n",
        "\n",
        "# Contar la frecuencia de cada palabra\n",
        "word_counts = Counter(all_words.split())\n",
        "\n",
        "# Mostrar las 10 palabras más comunes\n",
        "print(\"Palabras más comunes:\")\n",
        "for word, count in word_counts.most_common(10):\n",
        "    print(f\"{word}: {count}\")\n",
        "\n",
        "# Visualización de las palabras más comunes\n",
        "import matplotlib.pyplot as plt\n",
        "\n",
        "# Preparar datos para el gráfico\n",
        "words, counts = zip(*word_counts.most_common(10))\n",
        "\n",
        "# Crear el gráfico de barras\n",
        "plt.bar(words, counts, color='skyblue', edgecolor='black')\n",
        "plt.title('Top 10 palabras más comunes')\n",
        "plt.xlabel('Palabras')\n",
        "plt.ylabel('Frecuencia')\n",
        "plt.xticks(rotation=45)\n",
        "plt.show()\n"
      ],
      "metadata": {
        "id": "QeB_k8c5Wn-4",
        "outputId": "c7d839d0-1c07-41c7-c6bb-9d1cebbf63cb",
        "colab": {
          "base_uri": "https://localhost:8080/",
          "height": 678
        }
      },
      "execution_count": 7,
      "outputs": [
        {
          "output_type": "stream",
          "name": "stdout",
          "text": [
            "Palabras más comunes:\n",
            "de: 95587\n",
            "que: 76809\n",
            "la: 59955\n",
            "y: 51432\n",
            "en: 39433\n",
            "el: 35813\n",
            "a: 34636\n",
            "es: 24943\n",
            "un: 24872\n",
            "no: 23675\n"
          ]
        },
        {
          "output_type": "display_data",
          "data": {
            "text/plain": [
              "<Figure size 640x480 with 1 Axes>"
            ],
            "image/png": "[encoded data removed]"
          },
          "metadata": {}
        }
      ]
    },
    {
      "cell_type": "markdown",
      "source": [
        "Este análisis confirma la necesidad de limpiar el texto, eliminando stopwords para resaltar palabras más relevantes."
      ],
      "metadata": {
        "id": "m9bySDu6XJP9"
      }
    },
    {
      "cell_type": "code",
      "source": [
        "# Importar librerías necesarias\n",
        "import re\n",
        "# import spacy\n",
        "\n",
        "# Cargar modelo en español para obtener las stopwords\n",
        "nlp = spacy.load('es_core_news_sm')\n",
        "stopwords = nlp.Defaults.stop_words\n",
        "\n",
        "# Función para limpiar el texto\n",
        "def clean_text(text):\n",
        "    # Convertir a minúsculas\n",
        "    text = text.lower()\n",
        "    # Eliminar URLs\n",
        "    text = re.sub(r'http\\S+', '', text)\n",
        "    # Eliminar puntuación y caracteres especiales\n",
        "    text = re.sub(r'[^a-záéíóúñ\\s]', '', text)\n",
        "    # Eliminar stopwords\n",
        "    words = text.split()\n",
        "    words = [word for word in words if word not in stopwords]\n",
        "    # Reconstruir el texto limpio\n",
        "    return ' '.join(words)\n",
        "\n",
        "# Aplicar la limpieza al texto de las reseñas\n",
        "df['cleaned_review_text'] = df['review_text'].apply(lambda x: clean_text(str(x)))\n",
        "\n",
        "# Mostrar ejemplo de reseña antes y después de limpiar\n",
        "print(\"Ejemplo de texto antes y después de la limpieza:\")\n",
        "print(\"Original:\", df['review_text'].iloc[0])\n",
        "print(\"Limpio:\", df['cleaned_review_text'].iloc[0])\n"
      ],
      "metadata": {
        "id": "oqh_56IZXKT8",
        "outputId": "169ccb2f-5f72-4435-fa0d-45d48efb2f39",
        "colab": {
          "base_uri": "https://localhost:8080/"
        }
      },
      "execution_count": 9,
      "outputs": [
        {
          "output_type": "stream",
          "name": "stdout",
          "text": [
            "Ejemplo de texto antes y después de la limpieza:\n",
            "Original: La mayor virtud de esta película es su existencia.El hecho de que podamos jugar con los tópicos más extremos de las identidades patrias (la andaluza y la vasca) sin que nadie se escandalice ni ponga el grito en el cielo, indica mucho de nuestra madurez como nación (pese a quien pese). Bueno, corrijo: el hecho de que podamos jugar y hacer mofa y befa de los tópicos sobre los vascos y el nacionalismo vasco, sin que nadie se escandalice ni ponga el grito en el cielo, indica mucho del grado de normalización de ciertas cuestiones que antes eran llagas abiertas siempre dispuestas a sangrar. Y hago esta corrección, porque los andaluces han sido motivo de guasa siempre y nunca ha pasado nada.Por esto mismo, el planteamiento de \"Ocho Apellidos Vascos\" es valiente, es oportuno y es oportunista. Seguramente sea esa una de las principales razones por la que los españoles hemos acudido en masa, en una masa casi sin precedentes, a los cines a ver este producto patrocinado por Tele 5. Esa junto con la acertada fecha de estreno (entre los oscar y los blockbusters del verano) y la brutal y ejemplar campaña de marketing, la cual aplaudo y celebro.Eso es todo lo que puedo celebrar de este despropósito, muy a mi pesar.Siempre digo y repito eso de \"el oscuro placer de ver películas malas y disfrutarlas\", y siempre insisto en que \"no hay que olvidar que el principal propósito del cine es entretener\". Lo digo y lo mantengo. El problema es que \"Ocho Apelidos Vascos\" no es lo suficientemente mala, ni lo suficientemente friki, ni lo suficientemente disparatada para ser una \"Peli Mala\"(como Sharknado, o Xanadu o Condemor). Y desgraciadamente no es lo suficientemente entretenida para perdonarle su mediocridad (siempre desde mi punto de vista).Esa es precisamente la palabra que mejor la define: \"Mediocridad\". Es dolorosamente mediocre. Es simple, que no sencilla. Es impersonal y lo peor: está hecha sin ganas.Funciona porque el planteamiento interesa, y no por novedoso (sacar un elemento de su entorno e introducirlo en otro totalmente ajeno y hostil es uno de los argumentos básicos en la comedia desde que el cine es cine), sino por lo que explicaba al principio.Pero todos los demás elementos apenas encajan, o no lo hacen en absoluto. Toda la película es una caída en picado desde un comienzo prometedor a un final vergonzoso, pasando por todas las situaciones \"cómicas\" de manual y todos los tópicos más manidos de la comedia de enredo. Que sí, César, que ya te oigo replicarme: \"que todas las historias están ya contadas\". Tienes  toda la razón, pero se pueden seguir contando con un poco de ganas, o al menos de formas, si no originales, sí convincentes. Y volvemos al principal problema de gran parte del cine patrio (y mucho foráneo): el guión. La mayoría de los directores confunden el argumento con el guión. El argumento es el planteamiento, el guión el desarrollo. Una grandísima parte de las películas españolas que llevo años sufriendo se desinflan, con suerte, a la mitad de su recorrido. Pocos son los cineastas que se molestan en desarrollar sus historias, menos aún en rematarlas y en hacer que las cosas encajen. Parece que en las escuelas de cine que surgen como champiñones en este país nuestro, se olvidan de poner \"El Guión\" como asignatura.La que nos ocupa hoy es un ejemplo más: hay un planteamiento interesante, aunque torpemente presentado, y ante la incapacidad (o la falta de ganas) de su director de desarrollarlo de una manera convincente (o alocadamente convincente) se refugia en un enredo de principiante, del cual no sabe cómo salir, aunque todos intuímos (y tememos) desde el principio cómo lo va a hacer: a la fuerza y sin lubricante.Lo que salva este producto del descalabro total es el monologuista Dani Rovira, con sus inspirados monólogos y su desparpajo, y Karra Elejalde dando vida la único personaje creíble de toda la historia. Carmen Machi muy bien haciendo de Carmen Machi, y de Clara Lago...llamarla actriz sería insultar al resto de la profesión (Elsa Pataki incluída).Aún con todo: - sí, hay unas cuantas situaciones capaces de arrancar risas, e incluso carcajadas y - sí, resulta entretenida (a ratos). Pero me duele pensar que ésto es lo que el público está esperando del cine español para llenar las salas. Me duele pensar que el cine también, como casi todos los ámbitos de poder, está en manos de los mediocres. Y me duele pensar que sean los sub-productos como este los que vayan a salvar al cine español de las aguas en que él sólo se ha sumergido.Robándole una cita a mi amigo Regino Mateo y parafraseándola: \"no es lo mismo hacer películas que hacer cine\"\n",
            "Limpio: virtud película existenciael podamos jugar tópicos extremos identidades patrias andaluza vasca escandalice ponga grito cielo indica madurez nación pese pese corrijo podamos jugar mofa befa tópicos vascos nacionalismo vasco escandalice ponga grito cielo indica grado normalización cuestiones llagas abiertas dispuestas sangrar corrección andaluces motivo guasa nadapor planteamiento apellidos vascos valiente oportuno oportunista seguramente principales razones españoles acudido masa masa precedentes cines producto patrocinado tele acertada fecha estreno oscar blockbusters verano brutal ejemplar campaña marketing aplaudo celebroeso celebrar despropósito pesarsiempre digo repito oscuro placer películas malas disfrutarlas insisto olvidar principal propósito cine entretener digo mantengo problema apelidos vascos suficientemente mala suficientemente friki suficientemente disparatada peli malacomo sharknado xanadu condemor desgraciadamente suficientemente entretenida perdonarle mediocridad punto vistaesa precisamente palabra define mediocridad dolorosamente mediocre simple sencilla impersonal hecha ganasfunciona planteamiento interesa novedoso sacar elemento entorno introducirlo totalmente ajeno hostil argumentos básicos comedia cine cine explicaba principiopero elementos encajan absoluto película caída picado comienzo prometedor vergonzoso pasando situaciones cómicas manual tópicos manidos comedia enredo césar oigo replicarme historias contadas tienes razón seguir contando ganas formas originales convincentes volvemos principal problema cine patrio foráneo guión mayoría directores confunden argumento guión argumento planteamiento guión desarrollo grandísima películas españolas llevo años sufriendo desinflan suerte mitad recorrido cineastas molestan desarrollar historias rematarlas cosas encajen escuelas cine surgen champiñones país olvidan guión asignaturala ocupa ejemplo planteamiento interesante torpemente presentado incapacidad falta ganas director desarrollarlo convincente alocadamente convincente refugia enredo principiante salir intuímos tememos principio fuerza lubricantelo salva producto descalabro monologuista dani rovira inspirados monólogos desparpajo karra elejalde dando vida único personaje creíble historia carmen machi carmen machi clara lagollamarla actriz insultar resto profesión elsa pataki incluídaaún situaciones capaces arrancar risas carcajadas resulta entretenida ratos duele pensar ésto público esperando cine español llenar salas duele pensar cine ámbitos manos mediocres duele pensar subproductos vayan salvar cine español aguas sumergidorobándole cita amigo regino mateo parafraseándola películas cine\n"
          ]
        }
      ]
    },
    {
      "cell_type": "code",
      "source": [
        "# Importar spaCy (asegúrate de que ya está cargado)\n",
        "#import spacy\n",
        "#from collections import Counter\n",
        "\n",
        "# Cargar el modelo en español\n",
        "nlp = spacy.load('es_core_news_sm')\n",
        "\n",
        "# Función para analizar las partes del discurso (POS)\n",
        "def get_pos_tags(text):\n",
        "    doc = nlp(text)\n",
        "    return [token.pos_ for token in doc]\n",
        "\n",
        "# Aplicar el análisis POS a una muestra del texto limpio\n",
        "df['pos_tags'] = df['cleaned_review_text'].apply(lambda x: get_pos_tags(x))\n",
        "\n",
        "# Contar las etiquetas POS en todo el corpus\n",
        "all_pos_tags = [tag for tags in df['pos_tags'] for tag in tags]\n",
        "pos_counts = Counter(all_pos_tags)\n",
        "\n",
        "# Mostrar las etiquetas POS más comunes\n",
        "print(\"Etiquetas POS más comunes:\")\n",
        "for tag, count in pos_counts.most_common():\n",
        "    print(f\"{tag}: {count}\")\n",
        "\n",
        "# Visualización de las etiquetas POS\n",
        "import matplotlib.pyplot as plt\n",
        "\n",
        "# Preparar datos para el gráfico\n",
        "tags, counts = zip(*pos_counts.most_common(10))\n",
        "\n",
        "# Crear gráfico de barras\n",
        "plt.bar(tags, counts, color='skyblue', edgecolor='black')\n",
        "plt.title('Etiquetas POS más comunes')\n",
        "plt.xlabel('Etiqueta POS')\n",
        "plt.ylabel('Frecuencia')\n",
        "plt.show()\n",
        "\n"
      ],
      "metadata": {
        "id": "DHrwepFhSsqC",
        "outputId": "85abc78e-02b1-4462-c254-7a9cddefa6aa",
        "colab": {
          "base_uri": "https://localhost:8080/",
          "height": 839
        }
      },
      "execution_count": 10,
      "outputs": [
        {
          "output_type": "stream",
          "name": "stderr",
          "text": [
            "/usr/local/lib/python3.10/dist-packages/spacy/util.py:1740: UserWarning: [W111] Jupyter notebook detected: if using `prefer_gpu()` or `require_gpu()`, include it in the same cell right before `spacy.load()` to ensure that the model is loaded on the correct device. More information: http://spacy.io/usage/v3#jupyter-notebook-gpu\n",
            "  warnings.warn(Warnings.W111)\n"
          ]
        },
        {
          "output_type": "stream",
          "name": "stdout",
          "text": [
            "Etiquetas POS más comunes:\n",
            "NOUN: 245715\n",
            "ADJ: 233075\n",
            "VERB: 148872\n",
            "PROPN: 63721\n",
            "ADV: 19753\n",
            "AUX: 7667\n",
            "DET: 3414\n",
            "ADP: 2646\n",
            "NUM: 2335\n",
            "PRON: 1765\n",
            "SCONJ: 554\n",
            "CCONJ: 419\n",
            "INTJ: 149\n",
            "PUNCT: 104\n",
            "SYM: 58\n",
            "X: 10\n",
            "PART: 3\n"
          ]
        },
        {
          "output_type": "display_data",
          "data": {
            "text/plain": [
              "<Figure size 640x480 with 1 Axes>"
            ],
            "image/png": "[encoded data removed]"
          },
          "metadata": {}
        }
      ]
    }
  ]
}