{
  "nbformat": 4,
  "nbformat_minor": 0,
  "metadata": {
    "colab": {
      "provenance": [],
      "authorship_tag": "ABX9TyPPcLHKkvUggFbaLSf7iau4",
      "include_colab_link": true
    },
    "kernelspec": {
      "name": "python3",
      "display_name": "Python 3"
    },
    "language_info": {
      "name": "python"
    }
  },
  "cells": [
    {
      "cell_type": "markdown",
      "metadata": {
        "id": "view-in-github",
        "colab_type": "text"
      },
      "source": [
        "<a href=\"https://colab.research.google.com/github/tdiego74/Clase_Data_Science_III_PBLC/blob/main/Proyecto_DS_III_Entrega_Final_Tocci.ipynb\" target=\"_parent\"><img src=\"https://colab.research.google.com/assets/colab-badge.svg\" alt=\"Open In Colab\"/></a>"
      ]
    },
    {
      "cell_type": "markdown",
      "source": [
        "#**Analisis de Reseñas de FilmAffinity**\n",
        "\n",
        "##**Abstracto con Motivación y Audiencia**\n",
        "\n",
        "En este proyecto se analiza un conjunto de datos de reseñas obtenidas de FilmAffinity. Este trabajo está orientado a explorar patrones en el texto, realizar análisis de sentimientos y aplicar técnicas de procesamiento de lenguaje natural (NLP) para identificar insights significativos.\n",
        "\n",
        "El objetivo principal es demostrar el flujo completo de análisis: desde la carga y limpieza del texto hasta el desarrollo de visualizaciones y modelos predictivos que puedan clasificar las reseñas según su polaridad o calificación.\n",
        "\n",
        "\n",
        "##**Contexto Comercial y Analítico**\n",
        "\n",
        "FilmAffinity es una plataforma de recomendaciones y críticas de películas que permite a los usuarios valorar y escribir reseñas sobre títulos cinematográficos. Las reseñas de los usuarios son una fuente valiosa de información para comprender las preferencias y emociones asociadas con el consumo de contenido audiovisual.\n",
        "\n",
        "Este análisis busca responder preguntas como: ¿Qué palabras o frases son más comunes en las reseñas positivas y negativas? ¿Cómo varían las emociones según el género cinematográfico? Este conocimiento podría ser utilizado por la industria del entretenimiento para adaptar contenido a las expectativas de los usuarios.\n",
        "\n",
        "\n",
        "##**Preguntas/Hipótesis a Resolver**\n",
        "\n",
        "1. ¿Qué palabras o frases predominan en las reseñas positivas y negativas?\n",
        "2. ¿Es posible clasificar automáticamente las reseñas según su calificación o polaridad?\n",
        "3. ¿Qué características textuales pueden estar asociadas con ciertas puntuaciones o géneros?\n",
        "\n",
        "\n",
        "##**Objetivo**\n",
        "\n",
        "El objetivo de este proyecto es analizar y procesar el texto de las reseñas de FilmAffinity mediante técnicas de NLP. Esto incluye:\n",
        "- Preprocesamiento y limpieza del texto.\n",
        "- Análisis exploratorio para identificar patrones significativos.\n",
        "- Entrenamiento de un modelo para predecir la polaridad o calificación de las reseñas.\n",
        "\n"
      ],
      "metadata": {
        "id": "LiuG8mIQWIG9"
      }
    },
    {
      "cell_type": "code",
      "execution_count": null,
      "metadata": {
        "id": "mt6lnzVnV6lT",
        "outputId": "12c859ac-5f95-44eb-d58e-77e530121fd9",
        "colab": {
          "base_uri": "https://localhost:8080/"
        }
      },
      "outputs": [
        {
          "output_type": "stream",
          "name": "stdout",
          "text": [
            "Primeras filas del dataset:\n",
            "               film_name   gender film_avg_rate  review_rate  \\\n",
            "0  Ocho apellidos vascos  Comedia           6,0          3.0   \n",
            "1  Ocho apellidos vascos  Comedia           6,0          2.0   \n",
            "2  Ocho apellidos vascos  Comedia           6,0          2.0   \n",
            "3  Ocho apellidos vascos  Comedia           6,0          2.0   \n",
            "4  Ocho apellidos vascos  Comedia           6,0          2.0   \n",
            "\n",
            "                                        review_title  \\\n",
            "0     OCHO APELLIDOS VASCOS...Y NINGÚN NOMBRE PROPIO   \n",
            "1                                     El perro verde   \n",
            "2  Si no eres de comer mierda... no te comas esta...   \n",
            "3                                    Aida: The movie   \n",
            "4               UN HOMBRE SOLO (Julio Iglesias 1987)   \n",
            "\n",
            "                                         review_text  \n",
            "0  La mayor virtud de esta película es su existen...  \n",
            "1  No soy un experto cinéfilo, pero pocas veces m...  \n",
            "2  Si no eres un incondicional del humor estilo T...  \n",
            "3  No sé qué está pasando, si la gente se deja ll...  \n",
            "4  \"Pero cuando amanece,y me quedo solo,siento en...  \n",
            "\n",
            "Información general del dataset:\n",
            "<class 'pandas.core.frame.DataFrame'>\n",
            "RangeIndex: 8603 entries, 0 to 8602\n",
            "Data columns (total 6 columns):\n",
            " #   Column         Non-Null Count  Dtype  \n",
            "---  ------         --------------  -----  \n",
            " 0   film_name      8603 non-null   object \n",
            " 1   gender         8603 non-null   object \n",
            " 2   film_avg_rate  8603 non-null   object \n",
            " 3   review_rate    8601 non-null   float64\n",
            " 4   review_title   8603 non-null   object \n",
            " 5   review_text    8603 non-null   object \n",
            "dtypes: float64(1), object(5)\n",
            "memory usage: 403.4+ KB\n",
            "None\n"
          ]
        }
      ],
      "source": [
        "import pandas as pd\n",
        "\n",
        "# Leer el archivo desde GitHub usando un enfoque más robusto\n",
        "df = pd.read_csv(\n",
        "    'https://github.com/tdiego74/Clase_Data_Science_III_PBLC/raw/main/reviews_filmaffinity.csv',\n",
        "    sep=r'\\|\\|',  # Expresión regular para delimitador ||\n",
        "    engine='python',\n",
        "    quoting=3  # Ignorar comillas\n",
        ")\n",
        "\n",
        "# Mostrar las primeras filas\n",
        "print(\"Primeras filas del dataset:\")\n",
        "print(df.head())\n",
        "\n",
        "# Mostrar información del DataFrame\n",
        "print(\"\\nInformación general del dataset:\")\n",
        "print(df.info())\n",
        "\n",
        "\n",
        "\n"
      ]
    },
    {
      "cell_type": "code",
      "source": [
        "# Distribución de géneros\n",
        "print(\"Distribución de géneros:\")\n",
        "print(df['gender'].value_counts())\n",
        "\n",
        "# Distribución de calificaciones individuales (review_rate)\n",
        "print(\"\\nDistribución de calificaciones (review_rate):\")\n",
        "print(df['review_rate'].value_counts())\n",
        "\n",
        "# Distribución de calificaciones promedio de películas (film_avg_rate)\n",
        "print(\"\\nEstadísticas descriptivas de calificaciones promedio (film_avg_rate):\")\n",
        "print(df['film_avg_rate'].describe())\n"
      ],
      "metadata": {
        "id": "9NMfZItmvz0O",
        "outputId": "686b7dc4-1d8f-4cf8-afd4-44a9ef387dca",
        "colab": {
          "base_uri": "https://localhost:8080/"
        }
      },
      "execution_count": null,
      "outputs": [
        {
          "output_type": "stream",
          "name": "stdout",
          "text": [
            "Distribución de géneros:\n",
            "gender\n",
            "Comedia       2495\n",
            "Drama         1671\n",
            "Terror         941\n",
            "Aventuras      939\n",
            "Thriller       762\n",
            "Fantástico     495\n",
            "Cine negro     419\n",
            "Animación      284\n",
            "Romance        284\n",
            "Intriga        248\n",
            "Musical         65\n",
            "Name: count, dtype: int64\n",
            "\n",
            "Distribución de calificaciones (review_rate):\n",
            "review_rate\n",
            "8.0     1292\n",
            "7.0     1282\n",
            "6.0     1256\n",
            "5.0      978\n",
            "9.0      833\n",
            "3.0      695\n",
            "1.0      639\n",
            "4.0      590\n",
            "2.0      523\n",
            "10.0     513\n",
            "Name: count, dtype: int64\n",
            "\n",
            "Estadísticas descriptivas de calificaciones promedio (film_avg_rate):\n",
            "count     8603\n",
            "unique      28\n",
            "top        7,2\n",
            "freq      1129\n",
            "Name: film_avg_rate, dtype: object\n"
          ]
        }
      ]
    }
  ]
}